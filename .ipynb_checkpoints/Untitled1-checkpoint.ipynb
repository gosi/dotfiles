{
 "metadata": {
  "name": "",
  "signature": "sha256:b6a2fc6717a8c7b737d728432886ffec7ee8e27e1568c1f9ee56a5c5452218ef"
 },
 "nbformat": 3,
 "nbformat_minor": 0,
 "worksheets": []
}